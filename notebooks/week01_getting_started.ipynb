
{
 "cells": [
  {
   "cell_type": "markdown",
   "metadata": {},
   "source": [
    "# Week 2: Getting Started with Project Brew-Right\n",
    "\n",
    "## 🎯 Objectives\n",
    "- Test Python environment\n"
   ]
  },
  {
   "cell_type": "code",
   "execution_count": null,
   "metadata": {},
   "outputs": [],
   "source": [
    "# Test imports\n",
    "import pandas as pd\n",
    "import duckdb\n",
    "import boto3\n",
    "print(\"✅ All libraries imported successfully!\")"
   ]
  }
 ],
 "metadata": {
  "language_info": {
   "name": "python"
  }
 },
 "nbformat": 4,
 "nbformat_minor": 2
}
